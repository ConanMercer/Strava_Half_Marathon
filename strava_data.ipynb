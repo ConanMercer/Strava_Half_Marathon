{
 "cells": [
  {
   "cell_type": "code",
   "execution_count": 1,
   "metadata": {},
   "outputs": [],
   "source": [
    "import config\n",
    "import requests\n",
    "import pandas as pd\n",
    "import json\n",
    "import time\n",
    "from pandas import json_normalize\n",
    "\n",
    "import matplotlib.pyplot as plt\n",
    "import seaborn as sns\n",
    "sns.set_theme(style='whitegrid', palette='dark')"
   ]
  },
  {
   "cell_type": "markdown",
   "metadata": {},
   "source": [
    "## Authenticate with Strava"
   ]
  },
  {
   "cell_type": "code",
   "execution_count": 2,
   "metadata": {},
   "outputs": [],
   "source": [
    "with open('strava_tokens.json') as json_file:\n",
    "    strava_tokens = json.load(json_file)\n",
    "\n",
    "if strava_tokens['expires_at'] < time.time():\n",
    "    response = requests.post(\n",
    "                        url = 'https://www.strava.com/oauth/token',\n",
    "                        data = {\n",
    "                                'client_id': config.client_id,\n",
    "                                'client_secret': config.client_secret,\n",
    "                                'grant_type': 'refresh_token',\n",
    "                                'refresh_token': strava_tokens['refresh_token']\n",
    "                                }\n",
    "                    )\n",
    "    new_strava_tokens = response.json()\n",
    "\n",
    "    with open('strava_tokens.json', 'w') as outfile:\n",
    "        json.dump(new_strava_tokens, outfile)\n",
    "\n",
    "    strava_tokens = new_strava_tokens"
   ]
  },
  {
   "cell_type": "code",
   "execution_count": 3,
   "metadata": {},
   "outputs": [],
   "source": [
    "with open('strava_tokens.json') as check:\n",
    "  data = json.load(check)"
   ]
  },
  {
   "cell_type": "code",
   "execution_count": 4,
   "metadata": {},
   "outputs": [],
   "source": [
    "# Get the tokens from the file to connect to Strava\n",
    "with open('strava_tokens.json') as json_file:\n",
    "    strava_tokens = json.load(json_file)\n",
    "\n",
    "# Loop through all activities\n",
    "url = \"https://www.strava.com/api/v3/activities\"\n",
    "access_token = strava_tokens['access_token']\n",
    "\n",
    "# Get the first page of activities from Strava with all fields\n",
    "r = requests.get(url + '?access_token=' + access_token)\n",
    "r = r.json()\n",
    "    \n",
    "df = json_normalize(r)\n",
    "df.to_csv('strava_activities_all_fields.csv')"
   ]
  },
  {
   "cell_type": "markdown",
   "metadata": {},
   "source": [
    "## Data Retrieval"
   ]
  },
  {
   "cell_type": "code",
   "execution_count": 5,
   "metadata": {},
   "outputs": [],
   "source": [
    "# Using the Strava API with a specific header to retrive activity data\n",
    "header = {'Authorization': 'Bearer ' + access_token}\n",
    "param = {'per_page': 200, 'page': 1}\n",
    "r = requests.get(url, headers=header, params=param).json()"
   ]
  },
  {
   "cell_type": "code",
   "execution_count": 6,
   "metadata": {},
   "outputs": [],
   "source": [
    "activities = json_normalize(r)\n",
    "\n",
    "# new dataframe with desired columns\n",
    "columns = [\n",
    "            \"id\",\n",
    "            \"name\",\n",
    "            \"start_date_local\",\n",
    "            \"type\",\n",
    "            \"distance\",\n",
    "            \"moving_time\",\n",
    "            \"elapsed_time\",\n",
    "            \"total_elevation_gain\",\n",
    "            \"end_latlng\",\n",
    "            \"location_country\",\n",
    "            \"flagged\",\n",
    "            \"has_heartrate\",\n",
    "            \"average_heartrate\",\n",
    "            \"max_heartrate\",\n",
    "            \"average_speed\",\n",
    "            \"map.summary_polyline\"\n",
    "    ]\n",
    "\n",
    "activities = activities[columns]\n",
    "\n",
    "# Export activities file as a csv \n",
    "# to the folder this script runs in\n",
    "activities.to_csv('strava_activities.csv')"
   ]
  },
  {
   "cell_type": "markdown",
   "metadata": {},
   "source": [
    "## Data Exploration\n",
    "\n",
    "Now that that activity data is retrieved and stored as a .csv file, and as a pandas DataFrame (df), we can inspect the head of the df to get an idea of how the data looks:"
   ]
  },
  {
   "cell_type": "code",
   "execution_count": 7,
   "metadata": {},
   "outputs": [
    {
     "data": {
      "text/html": [
       "<div>\n",
       "<style scoped>\n",
       "    .dataframe tbody tr th:only-of-type {\n",
       "        vertical-align: middle;\n",
       "    }\n",
       "\n",
       "    .dataframe tbody tr th {\n",
       "        vertical-align: top;\n",
       "    }\n",
       "\n",
       "    .dataframe thead th {\n",
       "        text-align: right;\n",
       "    }\n",
       "</style>\n",
       "<table border=\"1\" class=\"dataframe\">\n",
       "  <thead>\n",
       "    <tr style=\"text-align: right;\">\n",
       "      <th></th>\n",
       "      <th>id</th>\n",
       "      <th>name</th>\n",
       "      <th>start_date_local</th>\n",
       "      <th>type</th>\n",
       "      <th>distance</th>\n",
       "      <th>moving_time</th>\n",
       "      <th>elapsed_time</th>\n",
       "      <th>total_elevation_gain</th>\n",
       "      <th>end_latlng</th>\n",
       "      <th>location_country</th>\n",
       "      <th>flagged</th>\n",
       "      <th>has_heartrate</th>\n",
       "      <th>average_heartrate</th>\n",
       "      <th>max_heartrate</th>\n",
       "      <th>average_speed</th>\n",
       "      <th>map.summary_polyline</th>\n",
       "    </tr>\n",
       "  </thead>\n",
       "  <tbody>\n",
       "    <tr>\n",
       "      <th>0</th>\n",
       "      <td>6598004451</td>\n",
       "      <td>Morning Run</td>\n",
       "      <td>2022-01-29T09:57:57Z</td>\n",
       "      <td>Run</td>\n",
       "      <td>6444.5</td>\n",
       "      <td>1978</td>\n",
       "      <td>2030</td>\n",
       "      <td>52.1</td>\n",
       "      <td>[41.960498029366136, 3.0399949103593826]</td>\n",
       "      <td>Spain</td>\n",
       "      <td>False</td>\n",
       "      <td>True</td>\n",
       "      <td>144.9</td>\n",
       "      <td>168.0</td>\n",
       "      <td>3.258</td>\n",
       "      <td>sgb_GuppQUAGDWBk@`@@`@MBi@pAYTQH]WQ?e@G]b@]Ca@...</td>\n",
       "    </tr>\n",
       "    <tr>\n",
       "      <th>1</th>\n",
       "      <td>6589161188</td>\n",
       "      <td>Lunch Run</td>\n",
       "      <td>2022-01-27T12:17:24Z</td>\n",
       "      <td>Run</td>\n",
       "      <td>9846.4</td>\n",
       "      <td>2962</td>\n",
       "      <td>2972</td>\n",
       "      <td>12.6</td>\n",
       "      <td>[41.96275033056736, 3.0380767956376076]</td>\n",
       "      <td>Spain</td>\n",
       "      <td>False</td>\n",
       "      <td>True</td>\n",
       "      <td>155.7</td>\n",
       "      <td>168.0</td>\n",
       "      <td>3.324</td>\n",
       "      <td>}mb_GmjpQ_@]e@EGDELGDcAIeBg@w@QgA]{AUeBMQ?u@Hy...</td>\n",
       "    </tr>\n",
       "    <tr>\n",
       "      <th>2</th>\n",
       "      <td>6573787184</td>\n",
       "      <td>Burn Baby</td>\n",
       "      <td>2022-01-24T12:48:09Z</td>\n",
       "      <td>Run</td>\n",
       "      <td>6444.1</td>\n",
       "      <td>1893</td>\n",
       "      <td>1934</td>\n",
       "      <td>11.4</td>\n",
       "      <td>[41.96095953695476, 3.038990255445242]</td>\n",
       "      <td>Spain</td>\n",
       "      <td>False</td>\n",
       "      <td>True</td>\n",
       "      <td>160.2</td>\n",
       "      <td>181.0</td>\n",
       "      <td>3.404</td>\n",
       "      <td>okb_GorpQAHd@bAHJDNCFWXWf@i@d@[MYFICK?}@ZYCu@U...</td>\n",
       "    </tr>\n",
       "    <tr>\n",
       "      <th>3</th>\n",
       "      <td>6559064384</td>\n",
       "      <td>Afternoon Run</td>\n",
       "      <td>2022-01-21T14:38:44Z</td>\n",
       "      <td>Run</td>\n",
       "      <td>9944.9</td>\n",
       "      <td>3022</td>\n",
       "      <td>3510</td>\n",
       "      <td>56.3</td>\n",
       "      <td>[41.96046022698283, 3.040398834273219]</td>\n",
       "      <td>Spain</td>\n",
       "      <td>False</td>\n",
       "      <td>True</td>\n",
       "      <td>149.3</td>\n",
       "      <td>174.0</td>\n",
       "      <td>3.291</td>\n",
       "      <td>olb_GukpQKB_@ZCLOGC@UK]?QLW^Oh@KVC@UEi@YiBg@iB...</td>\n",
       "    </tr>\n",
       "    <tr>\n",
       "      <th>4</th>\n",
       "      <td>6538818076</td>\n",
       "      <td>Afternoon Run</td>\n",
       "      <td>2022-01-17T17:06:26Z</td>\n",
       "      <td>Run</td>\n",
       "      <td>9663.8</td>\n",
       "      <td>2963</td>\n",
       "      <td>3133</td>\n",
       "      <td>54.1</td>\n",
       "      <td>[41.96291017346084, 3.0405751056969166]</td>\n",
       "      <td>Spain</td>\n",
       "      <td>False</td>\n",
       "      <td>True</td>\n",
       "      <td>149.5</td>\n",
       "      <td>169.0</td>\n",
       "      <td>3.261</td>\n",
       "      <td>slb_GsjpQDMAEIESCeA?i@R]hASXa@Ia@AkAQ_Ck@_AQiA...</td>\n",
       "    </tr>\n",
       "  </tbody>\n",
       "</table>\n",
       "</div>"
      ],
      "text/plain": [
       "           id           name      start_date_local type  distance  \\\n",
       "0  6598004451    Morning Run  2022-01-29T09:57:57Z  Run    6444.5   \n",
       "1  6589161188      Lunch Run  2022-01-27T12:17:24Z  Run    9846.4   \n",
       "2  6573787184      Burn Baby  2022-01-24T12:48:09Z  Run    6444.1   \n",
       "3  6559064384  Afternoon Run  2022-01-21T14:38:44Z  Run    9944.9   \n",
       "4  6538818076  Afternoon Run  2022-01-17T17:06:26Z  Run    9663.8   \n",
       "\n",
       "   moving_time  elapsed_time  total_elevation_gain  \\\n",
       "0         1978          2030                  52.1   \n",
       "1         2962          2972                  12.6   \n",
       "2         1893          1934                  11.4   \n",
       "3         3022          3510                  56.3   \n",
       "4         2963          3133                  54.1   \n",
       "\n",
       "                                 end_latlng location_country  flagged  \\\n",
       "0  [41.960498029366136, 3.0399949103593826]            Spain    False   \n",
       "1   [41.96275033056736, 3.0380767956376076]            Spain    False   \n",
       "2    [41.96095953695476, 3.038990255445242]            Spain    False   \n",
       "3    [41.96046022698283, 3.040398834273219]            Spain    False   \n",
       "4   [41.96291017346084, 3.0405751056969166]            Spain    False   \n",
       "\n",
       "   has_heartrate  average_heartrate  max_heartrate  average_speed  \\\n",
       "0           True              144.9          168.0          3.258   \n",
       "1           True              155.7          168.0          3.324   \n",
       "2           True              160.2          181.0          3.404   \n",
       "3           True              149.3          174.0          3.291   \n",
       "4           True              149.5          169.0          3.261   \n",
       "\n",
       "                                map.summary_polyline  \n",
       "0  sgb_GuppQUAGDWBk@`@@`@MBi@pAYTQH]WQ?e@G]b@]Ca@...  \n",
       "1  }mb_GmjpQ_@]e@EGDELGDcAIeBg@w@QgA]{AUeBMQ?u@Hy...  \n",
       "2  okb_GorpQAHd@bAHJDNCFWXWf@i@d@[MYFICK?}@ZYCu@U...  \n",
       "3  olb_GukpQKB_@ZCLOGC@UK]?QLW^Oh@KVC@UEi@YiBg@iB...  \n",
       "4  slb_GsjpQDMAEIESCeA?i@R]hASXa@Ia@AkAQ_Ck@_AQiA...  "
      ]
     },
     "execution_count": 7,
     "metadata": {},
     "output_type": "execute_result"
    }
   ],
   "source": [
    "activities.head()"
   ]
  },
  {
   "cell_type": "markdown",
   "metadata": {},
   "source": [
    "## Data Conversion\n",
    "\n",
    "Often when working with raw data, some of the data types are not in a format that is convenient. For example, most long distance runners prefer to work in miles and not kilometers. This means that pace data also needs to be converted from min/km to min/mile. Also, days of the week data could be useful, so new day of the week columns and month of the year coolumns can be created. Finally, the datatype sometimes need to be changed, in the example below we change a datetime column into a timedelta column"
   ]
  },
  {
   "cell_type": "code",
   "execution_count": 8,
   "metadata": {},
   "outputs": [
    {
     "data": {
      "text/html": [
       "<div>\n",
       "<style scoped>\n",
       "    .dataframe tbody tr th:only-of-type {\n",
       "        vertical-align: middle;\n",
       "    }\n",
       "\n",
       "    .dataframe tbody tr th {\n",
       "        vertical-align: top;\n",
       "    }\n",
       "\n",
       "    .dataframe thead th {\n",
       "        text-align: right;\n",
       "    }\n",
       "</style>\n",
       "<table border=\"1\" class=\"dataframe\">\n",
       "  <thead>\n",
       "    <tr style=\"text-align: right;\">\n",
       "      <th></th>\n",
       "      <th>id</th>\n",
       "      <th>name</th>\n",
       "      <th>start_date_local</th>\n",
       "      <th>type</th>\n",
       "      <th>distance</th>\n",
       "      <th>moving_time</th>\n",
       "      <th>elapsed_time</th>\n",
       "      <th>total_elevation_gain</th>\n",
       "      <th>end_latlng</th>\n",
       "      <th>location_country</th>\n",
       "      <th>...</th>\n",
       "      <th>average_heartrate</th>\n",
       "      <th>max_heartrate</th>\n",
       "      <th>average_speed</th>\n",
       "      <th>map.summary_polyline</th>\n",
       "      <th>distance_miles</th>\n",
       "      <th>minute_mile</th>\n",
       "      <th>day_of_week</th>\n",
       "      <th>month_of_year</th>\n",
       "      <th>week_of_year</th>\n",
       "      <th>year</th>\n",
       "    </tr>\n",
       "  </thead>\n",
       "  <tbody>\n",
       "    <tr>\n",
       "      <th>0</th>\n",
       "      <td>6598004451</td>\n",
       "      <td>Morning Run</td>\n",
       "      <td>2022-01-29 09:57:57+00:00</td>\n",
       "      <td>Run</td>\n",
       "      <td>6444.5</td>\n",
       "      <td>0 days 00:00:00.000001978</td>\n",
       "      <td>0 days 00:00:00.000002030</td>\n",
       "      <td>52.1</td>\n",
       "      <td>[41.960498029366136, 3.0399949103593826]</td>\n",
       "      <td>Spain</td>\n",
       "      <td>...</td>\n",
       "      <td>144.9</td>\n",
       "      <td>168.0</td>\n",
       "      <td>3.258</td>\n",
       "      <td>sgb_GuppQUAGDWBk@`@@`@MBi@pAYTQH]WQ?e@G]b@]Ca@...</td>\n",
       "      <td>4.004425</td>\n",
       "      <td>8.232658</td>\n",
       "      <td>Saturday</td>\n",
       "      <td>1</td>\n",
       "      <td>4</td>\n",
       "      <td>2022</td>\n",
       "    </tr>\n",
       "    <tr>\n",
       "      <th>1</th>\n",
       "      <td>6589161188</td>\n",
       "      <td>Lunch Run</td>\n",
       "      <td>2022-01-27 12:17:24+00:00</td>\n",
       "      <td>Run</td>\n",
       "      <td>9846.4</td>\n",
       "      <td>0 days 00:00:00.000002962</td>\n",
       "      <td>0 days 00:00:00.000002972</td>\n",
       "      <td>12.6</td>\n",
       "      <td>[41.96275033056736, 3.0380767956376076]</td>\n",
       "      <td>Spain</td>\n",
       "      <td>...</td>\n",
       "      <td>155.7</td>\n",
       "      <td>168.0</td>\n",
       "      <td>3.324</td>\n",
       "      <td>}mb_GmjpQ_@]e@EGDELGDcAIeBg@w@QgA]{AUeBMQ?u@Hy...</td>\n",
       "      <td>6.118267</td>\n",
       "      <td>8.069194</td>\n",
       "      <td>Thursday</td>\n",
       "      <td>1</td>\n",
       "      <td>4</td>\n",
       "      <td>2022</td>\n",
       "    </tr>\n",
       "    <tr>\n",
       "      <th>2</th>\n",
       "      <td>6573787184</td>\n",
       "      <td>Burn Baby</td>\n",
       "      <td>2022-01-24 12:48:09+00:00</td>\n",
       "      <td>Run</td>\n",
       "      <td>6444.1</td>\n",
       "      <td>0 days 00:00:00.000001893</td>\n",
       "      <td>0 days 00:00:00.000001934</td>\n",
       "      <td>11.4</td>\n",
       "      <td>[41.96095953695476, 3.038990255445242]</td>\n",
       "      <td>Spain</td>\n",
       "      <td>...</td>\n",
       "      <td>160.2</td>\n",
       "      <td>181.0</td>\n",
       "      <td>3.404</td>\n",
       "      <td>okb_GorpQAHd@bAHJDNCFWXWf@i@d@[MYFICK?}@ZYCu@U...</td>\n",
       "      <td>4.004177</td>\n",
       "      <td>7.879553</td>\n",
       "      <td>Monday</td>\n",
       "      <td>1</td>\n",
       "      <td>4</td>\n",
       "      <td>2022</td>\n",
       "    </tr>\n",
       "    <tr>\n",
       "      <th>3</th>\n",
       "      <td>6559064384</td>\n",
       "      <td>Afternoon Run</td>\n",
       "      <td>2022-01-21 14:38:44+00:00</td>\n",
       "      <td>Run</td>\n",
       "      <td>9944.9</td>\n",
       "      <td>0 days 00:00:00.000003022</td>\n",
       "      <td>0 days 00:00:00.000003510</td>\n",
       "      <td>56.3</td>\n",
       "      <td>[41.96046022698283, 3.040398834273219]</td>\n",
       "      <td>Spain</td>\n",
       "      <td>...</td>\n",
       "      <td>149.3</td>\n",
       "      <td>174.0</td>\n",
       "      <td>3.291</td>\n",
       "      <td>olb_GukpQKB_@ZCLOGC@UK]?QLW^Oh@KVC@UEi@YiBg@iB...</td>\n",
       "      <td>6.179472</td>\n",
       "      <td>8.150106</td>\n",
       "      <td>Friday</td>\n",
       "      <td>1</td>\n",
       "      <td>3</td>\n",
       "      <td>2022</td>\n",
       "    </tr>\n",
       "    <tr>\n",
       "      <th>4</th>\n",
       "      <td>6538818076</td>\n",
       "      <td>Afternoon Run</td>\n",
       "      <td>2022-01-17 17:06:26+00:00</td>\n",
       "      <td>Run</td>\n",
       "      <td>9663.8</td>\n",
       "      <td>0 days 00:00:00.000002963</td>\n",
       "      <td>0 days 00:00:00.000003133</td>\n",
       "      <td>54.1</td>\n",
       "      <td>[41.96291017346084, 3.0405751056969166]</td>\n",
       "      <td>Spain</td>\n",
       "      <td>...</td>\n",
       "      <td>149.5</td>\n",
       "      <td>169.0</td>\n",
       "      <td>3.261</td>\n",
       "      <td>slb_GsjpQDMAEIESCeA?i@R]hASXa@Ia@AkAQ_Ck@_AQiA...</td>\n",
       "      <td>6.004805</td>\n",
       "      <td>8.225084</td>\n",
       "      <td>Monday</td>\n",
       "      <td>1</td>\n",
       "      <td>3</td>\n",
       "      <td>2022</td>\n",
       "    </tr>\n",
       "  </tbody>\n",
       "</table>\n",
       "<p>5 rows × 22 columns</p>\n",
       "</div>"
      ],
      "text/plain": [
       "           id           name          start_date_local type  distance  \\\n",
       "0  6598004451    Morning Run 2022-01-29 09:57:57+00:00  Run    6444.5   \n",
       "1  6589161188      Lunch Run 2022-01-27 12:17:24+00:00  Run    9846.4   \n",
       "2  6573787184      Burn Baby 2022-01-24 12:48:09+00:00  Run    6444.1   \n",
       "3  6559064384  Afternoon Run 2022-01-21 14:38:44+00:00  Run    9944.9   \n",
       "4  6538818076  Afternoon Run 2022-01-17 17:06:26+00:00  Run    9663.8   \n",
       "\n",
       "                moving_time              elapsed_time  total_elevation_gain  \\\n",
       "0 0 days 00:00:00.000001978 0 days 00:00:00.000002030                  52.1   \n",
       "1 0 days 00:00:00.000002962 0 days 00:00:00.000002972                  12.6   \n",
       "2 0 days 00:00:00.000001893 0 days 00:00:00.000001934                  11.4   \n",
       "3 0 days 00:00:00.000003022 0 days 00:00:00.000003510                  56.3   \n",
       "4 0 days 00:00:00.000002963 0 days 00:00:00.000003133                  54.1   \n",
       "\n",
       "                                 end_latlng location_country  ...  \\\n",
       "0  [41.960498029366136, 3.0399949103593826]            Spain  ...   \n",
       "1   [41.96275033056736, 3.0380767956376076]            Spain  ...   \n",
       "2    [41.96095953695476, 3.038990255445242]            Spain  ...   \n",
       "3    [41.96046022698283, 3.040398834273219]            Spain  ...   \n",
       "4   [41.96291017346084, 3.0405751056969166]            Spain  ...   \n",
       "\n",
       "   average_heartrate  max_heartrate  average_speed  \\\n",
       "0              144.9          168.0          3.258   \n",
       "1              155.7          168.0          3.324   \n",
       "2              160.2          181.0          3.404   \n",
       "3              149.3          174.0          3.291   \n",
       "4              149.5          169.0          3.261   \n",
       "\n",
       "                                map.summary_polyline  distance_miles  \\\n",
       "0  sgb_GuppQUAGDWBk@`@@`@MBi@pAYTQH]WQ?e@G]b@]Ca@...        4.004425   \n",
       "1  }mb_GmjpQ_@]e@EGDELGDcAIeBg@w@QgA]{AUeBMQ?u@Hy...        6.118267   \n",
       "2  okb_GorpQAHd@bAHJDNCFWXWf@i@d@[MYFICK?}@ZYCu@U...        4.004177   \n",
       "3  olb_GukpQKB_@ZCLOGC@UK]?QLW^Oh@KVC@UEi@YiBg@iB...        6.179472   \n",
       "4  slb_GsjpQDMAEIESCeA?i@R]hASXa@Ia@AkAQ_Ck@_AQiA...        6.004805   \n",
       "\n",
       "  minute_mile  day_of_week  month_of_year week_of_year  year  \n",
       "0    8.232658     Saturday              1            4  2022  \n",
       "1    8.069194     Thursday              1            4  2022  \n",
       "2    7.879553       Monday              1            4  2022  \n",
       "3    8.150106       Friday              1            3  2022  \n",
       "4    8.225084       Monday              1            3  2022  \n",
       "\n",
       "[5 rows x 22 columns]"
      ]
     },
     "execution_count": 8,
     "metadata": {},
     "output_type": "execute_result"
    }
   ],
   "source": [
    "# Create a distance in miles column\n",
    "conv_fac_kilometers_miles = 0.621371 # conversion factor\n",
    "activities['distance_miles'] = (activities['distance']*conv_fac_kilometers_miles)/1e3\n",
    "\n",
    "# Convert m/s to min/mile\n",
    "activities['minute_mile'] = 1/(activities['average_speed']/26.822)\n",
    "\n",
    "# Convert dates to datetime type\n",
    "activities['start_date_local'] = pd.to_datetime(activities['start_date_local'])\n",
    "\n",
    "# Create a day of the week and month of the year columns\n",
    "activities['day_of_week'] = activities['start_date_local'].dt.day_name()\n",
    "activities['month_of_year'] = activities['start_date_local'].dt.month\n",
    "activities['week_of_year'] = activities['start_date_local'].dt.isocalendar().week\n",
    "\n",
    "# Convert times to timedeltas\n",
    "activities['moving_time'] = pd.to_timedelta(activities['moving_time'])\n",
    "activities['elapsed_time'] = pd.to_timedelta(activities['elapsed_time'])\n",
    "\n",
    "# Convert start date to years\n",
    "activities['year'] = pd.DatetimeIndex(activities['start_date_local']).year\n",
    "\n",
    "activities.head()"
   ]
  },
  {
   "cell_type": "markdown",
   "metadata": {},
   "source": [
    "## Get Only Half Marathon Training Activities\n",
    "\n",
    "Here, the actual race day data is excluded, as for now we only want to look at the training data."
   ]
  },
  {
   "cell_type": "code",
   "execution_count": 9,
   "metadata": {},
   "outputs": [],
   "source": [
    "# date range for the training of the half marathon, excluding the actual race day\n",
    "start_date_training = '2021-10-23'\n",
    "end_date_training = '2021-12-04'\n",
    "\n",
    "mask_training = (activities['start_date_local'] > start_date_training) & (activities['start_date_local'] <= end_date_training)\n",
    "df_training = activities.loc[mask_training]\n",
    "\n",
    "# date for the race day\n",
    "date_race = '2021-12-05'\n",
    "date_race2 = '2021-12-06'\n",
    "mask_race = (activities['start_date_local'] >= date_race) & (activities['start_date_local'] <= date_race2)\n",
    "df_race = activities.loc[mask_race]"
   ]
  },
  {
   "cell_type": "markdown",
   "metadata": {},
   "source": [
    "## Graphing"
   ]
  },
  {
   "cell_type": "markdown",
   "metadata": {},
   "source": [
    "### Weekly Distance"
   ]
  },
  {
   "cell_type": "code",
   "execution_count": 10,
   "metadata": {},
   "outputs": [
    {
     "data": {
      "image/png": "[encoded data removed]",
      "text/plain": [
       "<Figure size 432x288 with 1 Axes>"
      ]
     },
     "metadata": {},
     "output_type": "display_data"
    }
   ],
   "source": [
    "# Construct dataframe with week number column and values column\n",
    "df2 = df_training.loc[:, [\"distance_miles\"]]\n",
    "df2[\"week_of_year\"] = activities['week_of_year']\n",
    "\n",
    "# Sum up weekly values\n",
    "df3 = (\n",
    "    df2\n",
    "    .groupby(\"week_of_year\")\n",
    "    .sum()\n",
    "    .reset_index()\n",
    ")\n",
    "\n",
    "ax = sns.barplot(x='week_of_year', y='distance_miles', data=df3, color = 'black')\n",
    "ax.set(xlabel=\"week_of_year\", ylabel = \"distance, miles\")\n",
    "\n",
    "plt.show()"
   ]
  },
  {
   "cell_type": "code",
   "execution_count": 11,
   "metadata": {},
   "outputs": [
    {
     "name": "stdout",
     "output_type": "stream",
     "text": [
      "Total miles ran in training: 139\n"
     ]
    }
   ],
   "source": [
    "print(\"Total miles ran in training:\", round(sum(df_training['distance_miles'])))"
   ]
  },
  {
   "cell_type": "markdown",
   "metadata": {},
   "source": [
    "#### Weekly distance plan\n",
    "\n",
    "The training consisted of an easy first week, followed by 4 weeks of 25 miles or above per week, peaking at around 31 miles a week, and then into an aggressive two week taper running at a distance of approximately 60 percent less than the proceeding 4 weeks average. A total of 139 miles was ran in the training period before the Half Marathon."
   ]
  },
  {
   "cell_type": "code",
   "execution_count": 12,
   "metadata": {},
   "outputs": [
    {
     "data": {
      "image/png": "[encoded data removed]",
      "text/plain": [
       "<Figure size 432x288 with 1 Axes>"
      ]
     },
     "metadata": {},
     "output_type": "display_data"
    }
   ],
   "source": [
    "days_of_week = ['Monday', 'Tuesday', 'Wednesday', 'Thursday', 'Friday', 'Saturday', 'Sunday' ]\n",
    "\n",
    "ax = sns.barplot(x='day_of_week', y='distance_miles', data=df_training, order=days_of_week, ci=None, color='black')\n",
    "ax.set(xlabel=\"day of week\", ylabel = \"distance, miles\", title = \"Average Miles per Day\")\n",
    "plt.xticks(rotation=45)\n",
    "plt.show()"
   ]
  },
  {
   "cell_type": "markdown",
   "metadata": {},
   "source": [
    "#### Days of the week analysis\n",
    "\n",
    "The first half of the week (Monday to Wednesday) where lighter distance days, when compared to the later half (Thursday to Sunday). There was no predefined plan for this, it just happened that after 4 days of longer runs, the proceeding 3 days where run at lower distance. This variation could have helped with recovery between long runs. However, the shorter runs where ran faster, in order to build speed."
   ]
  },
  {
   "cell_type": "markdown",
   "metadata": {},
   "source": [
    "### Pacing"
   ]
  },
  {
   "cell_type": "markdown",
   "metadata": {},
   "source": [
    "The target race pace was 7:30 min / mile. Most of the training that occurred in the 6 week period before race day was done above race pace. There where two exceptions, where the average pace for the run was below race pace. This where tempo runs, designed to be run at speed.\n",
    "\n",
    "Running distance per session ranged from 3 to 10 miles. The Half Marathon race distance (13.1 miles) was never run in training in the 6 weeks prior to race day. This was intentional. I have run marathons before and many half marathons in training, so I knew I could cover the distance. I was training to run a personal best.\n",
    "\n",
    "To achieve this, I ran long distances above race pace and shorter distances at speed, significantly faster than race pace. This variable training type is designed to get the heart stronger, get the legs to able to move faster, as well as having the cardiovascular engine to cover the half marathon race distance."
   ]
  },
  {
   "cell_type": "code",
   "execution_count": 13,
   "metadata": {},
   "outputs": [
    {
     "data": {
      "image/png": "[encoded data removed]",
      "text/plain": [
       "<Figure size 432x288 with 1 Axes>"
      ]
     },
     "metadata": {},
     "output_type": "display_data"
    }
   ],
   "source": [
    "# training data\n",
    "ax = sns.scatterplot(x='distance_miles', y='minute_mile', data=df_training, color = 'black')\n",
    "\n",
    "# race day data\n",
    "ax1 = sns.scatterplot(x='distance_miles', y='minute_mile', data=df_race, color = 'red', s=100)\n",
    "\n",
    "ax.set(xlabel=\"distance, miles\", ylabel = \"speed, minute mile\")\n",
    "plt.axhline(y=7.5, color = \"black\", linestyle='--', label=\"target race pace\")\n",
    "\n",
    "# mark race data\n",
    "plt.text(12.5,7.7,'Race')\n",
    "\n",
    "plt.legend()\n",
    "plt.show()"
   ]
  },
  {
   "cell_type": "markdown",
   "metadata": {},
   "source": [
    "From the graph above, it can be seen that the race pace target was actually achieved on race day. The red data point represents the race day pace. Also, most runs in training are significantly above race pace, except two tempo runs. This was the plan and it appeared to work well."
   ]
  },
  {
   "cell_type": "markdown",
   "metadata": {},
   "source": [
    "### Heart Rate"
   ]
  },
  {
   "cell_type": "markdown",
   "metadata": {},
   "source": [
    "Heart is a very valuable metric to observe when training for and running long distance races. Typically, the harder you run the more stress you put under the cardiovascular system. When running a long distance race, the trick is to keep your heart rate at a comfortably uncomfortable level, for me that is around 160 beats per minute (bpm). I kept my heart rate at about 160 bpm for the majority of the race, although likely towards the end it went over into the 170-180 bpm range, as for the last mile it is important to give it everything you have got left in the tank.\n",
    "\n",
    "The heart rate data below is average only, so on tempo runs that rate would vary significantly. Usually on tempo runs I ran 4 miles, the first mile slow, the second fast, the third slow, and the final mile fast.\n",
    "\n",
    "During the race, my heart rate was much more consistent, only spiking upwards towards the end of the race.\n",
    "\n",
    "The graph below demonstrates that during training, my average heart rates spanned a big range, from around 130 bpm to 180 bpm. This was intentional, to expose my cardiovascular system to a wide range of hear rates."
   ]
  },
  {
   "cell_type": "code",
   "execution_count": 14,
   "metadata": {},
   "outputs": [
    {
     "data": {
      "image/png": "[encoded data removed]",
      "text/plain": [
       "<Figure size 432x288 with 1 Axes>"
      ]
     },
     "metadata": {},
     "output_type": "display_data"
    }
   ],
   "source": [
    "# training data\n",
    "ax = sns.scatterplot(x='average_heartrate', y='minute_mile', data=df_training, color = 'black')\n",
    "\n",
    "# race day data\n",
    "ax1 = sns.scatterplot(x='average_heartrate', y='minute_mile', data=df_race, color = 'red', s=100)\n",
    "\n",
    "ax.set(xlabel=\"average_heartrate\", ylabel = \"speed, minute mile\")\n",
    "plt.axhline(y=7.5, color = \"black\", linestyle='--', label=\"target race pace\")\n",
    "\n",
    "# mark race data\n",
    "plt.text(161,7.7,'Race')\n",
    "\n",
    "plt.legend()\n",
    "plt.show()"
   ]
  }
 ],
 "metadata": {
  "interpreter": {
   "hash": "9a443516413c2881eaa45503843a41caec010d6420f7e7f4b04a65c7fd85d327"
  },
  "kernelspec": {
   "display_name": "Python 3.8.5 64-bit ('base': conda)",
   "name": "python3"
  },
  "language_info": {
   "codemirror_mode": {
    "name": "ipython",
    "version": 3
   },
   "file_extension": ".py",
   "mimetype": "text/x-python",
   "name": "python",
   "nbconvert_exporter": "python",
   "pygments_lexer": "ipython3",
   "version": "3.8.5"
  },
  "orig_nbformat": 4
 },
 "nbformat": 4,
 "nbformat_minor": 2
}
